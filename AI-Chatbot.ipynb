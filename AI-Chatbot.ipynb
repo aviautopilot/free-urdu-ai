# AI Chatbot (GPT-2) - Roman Urdu
!pip install transformers torch

from transformers import pipeline

# AI ko load karo (GPT-2 - Free)
chatbot = pipeline("text-generation", model="gpt2")

# Test karo
sawal = input("Apna sawal likho: ")
jawab = chatbot(sawal, max_length=50)[0]['generated_text']
print("AI ka jawab:", jawab)
